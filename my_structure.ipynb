{
  "nbformat": 4,
  "nbformat_minor": 0,
  "metadata": {
    "colab": {
      "provenance": [],
      "authorship_tag": "ABX9TyOsrQsFH4DI4howlnus76/x",
      "include_colab_link": true
    },
    "kernelspec": {
      "name": "python3",
      "display_name": "Python 3"
    },
    "language_info": {
      "name": "python"
    }
  },
  "cells": [
    {
      "cell_type": "markdown",
      "metadata": {
        "id": "view-in-github",
        "colab_type": "text"
      },
      "source": [
        "<a href=\"https://colab.research.google.com/github/Yarik514/structure_task/blob/main/my_structure.ipynb\" target=\"_parent\"><img src=\"https://colab.research.google.com/assets/colab-badge.svg\" alt=\"Open In Colab\"/></a>"
      ]
    },
    {
      "cell_type": "markdown",
      "source": [
        "# Завдання 1 (клас)"
      ],
      "metadata": {
        "id": "ppY_SQ6fUgCi"
      }
    },
    {
      "cell_type": "code",
      "execution_count": 1,
      "metadata": {
        "id": "u3BdQE5jTLRP",
        "colab": {
          "base_uri": "https://localhost:8080/"
        },
        "outputId": "85db8ece-033f-44ce-f468-e3414f3e9547"
      },
      "outputs": [
        {
          "output_type": "stream",
          "name": "stdout",
          "text": [
            "Введіть кількість команд: 3\n",
            "1. Назва: Команда 1\n",
            "1. К-ть поразок: 2\n",
            "1. К-ть перемог: 10\n",
            "1. К-ть нічиїх: 3\n",
            "2. Назва: Команда 2\n",
            "2. К-ть поразок: 2\n",
            "2. К-ть перемог: 3\n",
            "2. К-ть нічиїх: 4\n",
            "3. Назва: Команда 3\n",
            "3. К-ть поразок: 4\n",
            "3. К-ть перемог: 10\n",
            "3. К-ть нічиїх: 4\n",
            "\n",
            "\n",
            "Команди з найбільшою кількістю перемог: \n",
            "\n",
            "\n",
            "Назва: Команда 1\n",
            "К-ть поразок: 2\n",
            "К-ть перемог: 10\n",
            "К-ть нічиїх: 3\n",
            "Назва: Команда 3\n",
            "К-ть поразок: 4\n",
            "К-ть перемог: 10\n",
            "К-ть нічиїх: 4\n"
          ]
        }
      ],
      "source": [
        "class Command:\n",
        "  pass\n",
        "\n",
        "n = int(input(\"Введіть кількість команд: \"))\n",
        "\n",
        "commands = []\n",
        "\n",
        "for i in range(n):\n",
        "  c = Command()\n",
        "  c.Name = input(f\"{i + 1}. Назва: \")\n",
        "  c.Losses = int(input(f\"{i + 1}. К-ть поразок: \"))\n",
        "  c.Wins = int(input(f\"{i + 1}. К-ть перемог: \"))\n",
        "  c.Draws = int(input(f\"{i + 1}. К-ть нічиїх: \"))\n",
        "  commands.append(c)\n",
        "\n",
        "c_max_wins = commands[0].Wins\n",
        "\n",
        "for i in range(n):\n",
        "  if commands[i].Wins > c_max_wins:\n",
        "    c_max_wins = commands[i].Wins\n",
        "\n",
        "print(\"\\n\\nКоманди з найбільшою кількістю перемог: \\n\\n\")\n",
        "\n",
        "for comm in commands:\n",
        "  if comm.Wins == c_max_wins:\n",
        "    print(f\"Назва: {comm.Name}\")\n",
        "    print(f\"К-ть поразок: {comm.Losses}\")\n",
        "    print(f\"К-ть перемог: {comm.Wins}\")\n",
        "    print(f\"К-ть нічиїх: {comm.Draws}\")\n"
      ]
    },
    {
      "cell_type": "markdown",
      "source": [
        "# Завдання 1 (словник)"
      ],
      "metadata": {
        "id": "ZTvs5zMIXcX2"
      }
    },
    {
      "cell_type": "code",
      "source": [
        "n = int(input(\"Введіть кількість команд: \"))\n",
        "commands = []\n",
        "\n",
        "for i in range(n):\n",
        "    c = {\n",
        "        \"Name\": input(f\"{i + 1}. Назва: \"),\n",
        "        \"Losses\": int(input(f\"{i + 1}. К-ть поразок: \")),\n",
        "        \"Wins\": int(input(f\"{i + 1}. К-ть перемог: \")),\n",
        "        \"Draws\": int(input(f\"{i + 1}. К-ть нічиїх: \"))\n",
        "    }\n",
        "    commands.append(c)\n",
        "\n",
        "c_max_wins = commands[0][\"Wins\"]\n",
        "\n",
        "for comm in commands:\n",
        "  if comm[\"Wins\"] > c_max_wins:\n",
        "    c_max_wins = comm[\"Wins\"]\n",
        "\n",
        "print(\"\\n\\nКоманди з найбільшою кількістю перемог: \\n\\n\")\n",
        "\n",
        "for comm in commands:\n",
        "  if comm[\"Wins\"] == c_max_wins:\n",
        "    print(\"Назва: \" + comm[\"Name\"])\n",
        "    print(\"К-ть поразок: \" + str(comm[\"Losses\"]))\n",
        "    print(\"К-ть перемог: \" + str(comm[\"Wins\"]))\n",
        "    print(\"К-ть нічиїх: \" + str(comm[\"Draws\"]))\n"
      ],
      "metadata": {
        "id": "8cp679cXWB2w",
        "colab": {
          "base_uri": "https://localhost:8080/"
        },
        "outputId": "616daba5-3a45-4d6b-e6bc-21bff1f2c0c8"
      },
      "execution_count": 2,
      "outputs": [
        {
          "output_type": "stream",
          "name": "stdout",
          "text": [
            "Введіть кількість команд: 3\n",
            "1. Назва: Команда 1\n",
            "1. К-ть поразок: 3\n",
            "1. К-ть перемог: 10\n",
            "1. К-ть нічиїх: 4\n",
            "2. Назва: Команда 2\n",
            "2. К-ть поразок: 4\n",
            "2. К-ть перемог: 5\n",
            "2. К-ть нічиїх: 2\n",
            "3. Назва: Команда 3\n",
            "3. К-ть поразок: 3\n",
            "3. К-ть перемог: 10\n",
            "3. К-ть нічиїх: 5\n",
            "\n",
            "\n",
            "Команди з найбільшою кількістю перемог: \n",
            "\n",
            "\n",
            "Назва: Команда 1\n",
            "К-ть поразок: 3\n",
            "К-ть перемог: 10\n",
            "К-ть нічиїх: 4\n",
            "Назва: Команда 3\n",
            "К-ть поразок: 3\n",
            "К-ть перемог: 10\n",
            "К-ть нічиїх: 5\n"
          ]
        }
      ]
    },
    {
      "cell_type": "markdown",
      "source": [
        "# Завдання 2 (клас)"
      ],
      "metadata": {
        "id": "5wlV0FhyeKgO"
      }
    },
    {
      "cell_type": "code",
      "source": [
        "class Student:\n",
        "  pass\n",
        "\n",
        "n = int(input(\"Кількість студентів: \"))\n",
        "\n",
        "students = []\n",
        "\n",
        "for i in range(n):\n",
        "  s = Student()\n",
        "  s.Name = input(f\"{i + 1}. ПІП: \")\n",
        "  s.Course = int(input(f\"{i + 1}. Курс: \"))\n",
        "  s.GroupNumber = int(input(f\"{i + 1}. Номер групи: \"))\n",
        "  s.YearOfBirth = int(input(f\"{i + 1}. Рік народження: \"))\n",
        "\n",
        "  students.append(s)\n",
        "\n",
        "s_min_year = students[0].YearOfBirth\n",
        "\n",
        "for student in students:\n",
        "  if student.YearOfBirth > s_min_year:\n",
        "    s_min_year = student.YearOfBirth\n",
        "\n",
        "print(\"\\n\\nНаймолодші студенти: \\n\\n\")\n",
        "\n",
        "for student in students:\n",
        "  if student.YearOfBirth == s_min_year:\n",
        "    print(f\"ПІП: {student.Name}\")\n",
        "    print(f\"Курс: {student.Course}\")\n",
        "    print(f\"Номер групи: {student.GroupNumber}\")\n",
        "    print(f\"Рік народження: {student.YearOfBirth}\")"
      ],
      "metadata": {
        "id": "Rb5RWF21eaNZ",
        "colab": {
          "base_uri": "https://localhost:8080/"
        },
        "outputId": "9a510b09-8cf1-465e-8567-fb38655fe2ba"
      },
      "execution_count": 3,
      "outputs": [
        {
          "output_type": "stream",
          "name": "stdout",
          "text": [
            "Кількість студентів: 3\n",
            "1. ПІП: Студент 1\n",
            "1. Курс: 2\n",
            "1. Номер групи: 203\n",
            "1. Рік народження: 2000\n",
            "2. ПІП: Студент 2\n",
            "2. Курс: 3\n",
            "2. Номер групи: 303\n",
            "2. Рік народження: 1999\n",
            "3. ПІП: Студент 3\n",
            "3. Курс: 2\n",
            "3. Номер групи: 203\n",
            "3. Рік народження: 2000\n",
            "\n",
            "\n",
            "Наймолодші студенти: \n",
            "\n",
            "\n",
            "ПІП: Студент 1\n",
            "Курс: 2\n",
            "Номер групи: 203\n",
            "Рік народження: 2000\n",
            "ПІП: Студент 3\n",
            "Курс: 2\n",
            "Номер групи: 203\n",
            "Рік народження: 2000\n"
          ]
        }
      ]
    },
    {
      "cell_type": "markdown",
      "source": [
        "# Завдання 2 (словник)"
      ],
      "metadata": {
        "id": "DKFp02iLhVLh"
      }
    },
    {
      "cell_type": "code",
      "source": [
        "n = int(input(\"Кількість студентів: \"))\n",
        "\n",
        "students = []\n",
        "\n",
        "for i in range(n):\n",
        "  s = {\n",
        "      \"Name\" : input(f\"{i + 1}. ПІП: \"),\n",
        "      \"Course\" : int(input(f\"{i + 1}. Курс: \")),\n",
        "      \"GroupNumber\" : int(input(f\"{i + 1}. Номер групи: \")),\n",
        "      \"YearOfBirth\" : int(input(f\"{i + 1}. Рік народження: \"))\n",
        "  }\n",
        "  students.append(s)\n",
        "\n",
        "s_min_year = students[0][\"YearOfBirth\"]\n",
        "\n",
        "for student in students:\n",
        "  if student[\"YearOfBirth\"] > s_min_year:\n",
        "    s_min_year = student[\"YearOfBirth\"]\n",
        "\n",
        "print(\"\\n\\nНаймолодші студенти: \\n\\n\")\n",
        "\n",
        "for student in students:\n",
        "  if student[\"YearOfBirth\"] > s_min_year:\n",
        "    print(\"ПІП: \" + student[\"Name\"])\n",
        "    print(\"Курс: \" + str(student[\"Course\"]))\n",
        "    print(\"Номер групи: \" + str(student[\"GroupNumber\"]))\n",
        "    print(\"Рік народження: \" + str(student[\"YearOfBirth\"]))"
      ],
      "metadata": {
        "id": "WYRV5npRhY2x"
      },
      "execution_count": null,
      "outputs": []
    }
  ]
}