{
  "nbformat": 4,
  "nbformat_minor": 0,
  "metadata": {
    "colab": {
      "provenance": [],
      "authorship_tag": "ABX9TyM63OpqITm5ixzQrPyJfIFo",
      "include_colab_link": true
    },
    "kernelspec": {
      "name": "python3",
      "display_name": "Python 3"
    },
    "language_info": {
      "name": "python"
    }
  },
  "cells": [
    {
      "cell_type": "markdown",
      "metadata": {
        "id": "view-in-github",
        "colab_type": "text"
      },
      "source": [
        "<a href=\"https://colab.research.google.com/github/Yarik514/structure_task/blob/main/my_structure.ipynb\" target=\"_parent\"><img src=\"https://colab.research.google.com/assets/colab-badge.svg\" alt=\"Open In Colab\"/></a>"
      ]
    },
    {
      "cell_type": "markdown",
      "source": [
        "# Завдання 1 (клас)"
      ],
      "metadata": {
        "id": "ppY_SQ6fUgCi"
      }
    },
    {
      "cell_type": "code",
      "execution_count": null,
      "metadata": {
        "id": "u3BdQE5jTLRP"
      },
      "outputs": [],
      "source": [
        "class Command:\n",
        "  pass\n",
        "\n",
        "n = int(input(\"Введіть кількість команд: \"))\n",
        "\n",
        "commands = []\n",
        "\n",
        "for i in range(n):\n",
        "  c = Command()\n",
        "  c.Name = input(f\"{i + 1}. Назва: \")\n",
        "  c.Losses = int(input(f\"{i + 1}. К-ть поразок: \"))\n",
        "  c.Wins = int(input(f\"{i + 1}. К-ть перемог: \"))\n",
        "  c.Draws = int(input(f\"{i + 1}. К-ть нічиїх: \"))\n",
        "  commands.append(c)\n",
        "\n",
        "c_max_wins = commands[0]\n",
        "\n",
        "for i in range(n):\n",
        "  if commands[i].Wins > c_max_wins.Wins:\n",
        "    c_max_wins = commands[i]\n",
        "\n",
        "print(\"\\n\\nКоманда з найбільшою кількістю перемог: \\n\\n\")\n",
        "\n",
        "print(f\"Назва: {c_max_wins.Name}\")\n",
        "print(f\"К-ть поразок: {c_max_wins.Losses}\")\n",
        "print(f\"К-ть перемог: {c_max_wins.Wins}\")\n",
        "print(f\"К-ть нічиїх: {c_max_wins.Draws}\")"
      ]
    },
    {
      "cell_type": "markdown",
      "source": [
        "# Завдання 1 (словник)"
      ],
      "metadata": {
        "id": "ZTvs5zMIXcX2"
      }
    },
    {
      "cell_type": "code",
      "source": [
        "n = int(input(\"Введіть кількість команд: \"))\n",
        "commands = []\n",
        "\n",
        "for i in range(n):\n",
        "    c = {\n",
        "        \"Name\": input(f\"{i + 1}. Назва: \"),\n",
        "        \"Losses\": int(input(f\"{i + 1}. К-ть поразок: \")),\n",
        "        \"Wins\": int(input(f\"{i + 1}. К-ть перемог: \")),\n",
        "        \"Draws\": int(input(f\"{i + 1}. К-ть нічиїх: \"))\n",
        "    }\n",
        "    commands.append(c)\n",
        "\n",
        "c_max_wins = commands[0]\n",
        "\n",
        "for comm in commands:\n",
        "  if comm[\"Wins\"] > c_max_wins[\"Wins\"]:\n",
        "    c_max_wins = comm\n",
        "\n",
        "print(\"\\n\\nКоманда з найбільшою кількістю перемог: \\n\\n\")\n",
        "\n",
        "print(\"Назва: \" + c_max_wins[\"Name\"])\n",
        "print(\"К-ть поразок: \" + str(c_max_wins[\"Losses\"]))\n",
        "print(\"К-ть перемог: \" + str(c_max_wins[\"Wins\"]))\n",
        "print(\"К-ть нічиїх: \" + str(c_max_wins[\"Draws\"]))\n"
      ],
      "metadata": {
        "id": "8cp679cXWB2w"
      },
      "execution_count": null,
      "outputs": []
    },
    {
      "cell_type": "markdown",
      "source": [
        "# Завдання 2 (клас)"
      ],
      "metadata": {
        "id": "5wlV0FhyeKgO"
      }
    },
    {
      "cell_type": "code",
      "source": [
        "class Student:\n",
        "  pass\n",
        "\n",
        "n = int(input(\"Кількість студентів: \"))\n",
        "\n",
        "students = []\n",
        "\n",
        "for i in range(n):\n",
        "  s = Student()\n",
        "  s.Name = input(f\"{i + 1}. ПІП: \")\n",
        "  s.Course = int(input(f\"{i + 1}. Курс: \"))\n",
        "  s.GroupNumber = int(input(f\"{i + 1}. Номер групи: \"))\n",
        "  s.YearOfBirth = int(input(f\"{i + 1}. Рік народження: \"))\n",
        "\n",
        "  students.append(s)\n",
        "\n",
        "\n",
        "s_min_year = students[0]\n",
        "\n",
        "for student in students:\n",
        "  if student.YearOfBirth > s_min_year.YearOfBirth:\n",
        "    s_min_year = student\n",
        "\n",
        "print(\"\\n\\nНаймолодший студент: \\n\\n\")\n",
        "\n",
        "print(f\"ПІП: {s_min_year.Name}\")\n",
        "print(f\"Курс: {s_min_year.Course}\")\n",
        "print(f\"Номер групи: {s_min_year.GroupNumber}\")\n",
        "print(f\"Рік народження: {s_min_year.YearOfBirth}\")"
      ],
      "metadata": {
        "id": "Rb5RWF21eaNZ"
      },
      "execution_count": null,
      "outputs": []
    },
    {
      "cell_type": "markdown",
      "source": [
        "# Завдання 2 (словник)"
      ],
      "metadata": {
        "id": "DKFp02iLhVLh"
      }
    },
    {
      "cell_type": "code",
      "source": [
        "n = int(input(\"Кількість студентів: \"))\n",
        "\n",
        "students = []\n",
        "\n",
        "for i in range(n):\n",
        "  s = {\n",
        "      \"Name\" : input(f\"{i + 1}. ПІП: \"),\n",
        "      \"Course\" : int(input(f\"{i + 1}. Курс: \")),\n",
        "      \"GroupNumber\" : int(input(f\"{i + 1}. Номер групи: \")),\n",
        "      \"YearOfBirth\" : int(input(f\"{i + 1}. Рік народження: \"))\n",
        "  }\n",
        "  students.append(s)\n",
        "\n",
        "s_min_year = students[0]\n",
        "\n",
        "for student in students:\n",
        "  if student[\"YearOfBirth\"] > s_min_year[\"YearOfBirth\"]:\n",
        "    s_min_year = student\n",
        "\n",
        "print(\"\\n\\nНаймолодший студент: \\n\\n\")\n",
        "\n",
        "print(\"ПІП: \" + s_min_year[\"Name\"])\n",
        "print(\"Курс: \" + str(s_min_year[\"Course\"]))\n",
        "print(\"Номер групи: \" + str(s_min_year[\"GroupNumber\"]))\n",
        "print(\"Рік народження: \" + str(s_min_year[\"YearOfBirth\"]))"
      ],
      "metadata": {
        "id": "WYRV5npRhY2x"
      },
      "execution_count": null,
      "outputs": []
    }
  ]
}